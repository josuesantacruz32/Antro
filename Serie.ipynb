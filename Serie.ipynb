{
  "nbformat": 4,
  "nbformat_minor": 0,
  "metadata": {
    "colab": {
      "provenance": [],
      "authorship_tag": "ABX9TyN27FGcnGgBEIlD62mwxSzu",
      "include_colab_link": true
    },
    "kernelspec": {
      "name": "python3",
      "display_name": "Python 3"
    },
    "language_info": {
      "name": "python"
    }
  },
  "cells": [
    {
      "cell_type": "markdown",
      "metadata": {
        "id": "view-in-github",
        "colab_type": "text"
      },
      "source": [
        "<a href=\"https://colab.research.google.com/github/josuesantacruz32/Antro/blob/master/Serie.ipynb\" target=\"_parent\"><img src=\"https://colab.research.google.com/assets/colab-badge.svg\" alt=\"Open In Colab\"/></a>"
      ]
    },
    {
      "cell_type": "code",
      "execution_count": 3,
      "metadata": {
        "colab": {
          "base_uri": "https://localhost:8080/"
        },
        "id": "mwuDpEhzRnlV",
        "outputId": "9c209788-657f-4676-db45-8f9486f16420"
      },
      "outputs": [
        {
          "output_type": "stream",
          "name": "stdout",
          "text": [
            "Series:\n",
            "0    1.0\n",
            "1    3.0\n",
            "2    5.0\n",
            "3    NaN\n",
            "4    6.0\n",
            "5    8.0\n",
            "dtype: float64\n"
          ]
        }
      ],
      "source": [
        "import pandas as pd\n",
        "import numpy as np\n",
        "\n",
        "\n",
        "#Crear un serie\n",
        "s = pd.Series([1, 3, 5, np.nan, 6, 8])\n",
        "print(\"Series:\")\n",
        "print(s)\n",
        "\n",
        "\n",
        "\n",
        "\n",
        "\n"
      ]
    },
    {
      "cell_type": "markdown",
      "source": [
        "dataframe"
      ],
      "metadata": {
        "id": "7ztzDp4RT5pv"
      }
    },
    {
      "cell_type": "code",
      "source": [
        "df = pd.DataFrame({\n",
        "    'A': [1, 2, 3, 4],\n",
        "    'B': pd.Timestamp('20230101'),\n",
        "    'C': pd.Series(1, index=list(range(4)), dtype='float32'),\n",
        "    'D': np.array([5] * 4, dtype='int32'),\n",
        "    'E': pd.Categorical([\"test\", \"train\", \"test\", \"train\"]),\n",
        "    'F': 'foo'\n",
        "})\n",
        "print(\"\\nDataframe:\")\n",
        "print(df)\n",
        "\n"
      ],
      "metadata": {
        "colab": {
          "base_uri": "https://localhost:8080/"
        },
        "id": "6UbUJ9AUUEl3",
        "outputId": "37f63854-7723-4444-b99b-44f7bbfaffa7"
      },
      "execution_count": 4,
      "outputs": [
        {
          "output_type": "stream",
          "name": "stdout",
          "text": [
            "\n",
            "Dataframe:\n",
            "   A          B    C  D      E    F\n",
            "0  1 2023-01-01  1.0  5   test  foo\n",
            "1  2 2023-01-01  1.0  5  train  foo\n",
            "2  3 2023-01-01  1.0  5   test  foo\n",
            "3  4 2023-01-01  1.0  5  train  foo\n"
          ]
        }
      ]
    },
    {
      "cell_type": "markdown",
      "source": [
        "Explorar DataFrame"
      ],
      "metadata": {
        "id": "FMERRvwGVy-0"
      }
    },
    {
      "cell_type": "code",
      "source": [
        "print(\"\\Tipos de datos:\")\n",
        "print(df.dtypes)\n",
        "\n",
        "print(\"\\nPrimeras 2 filas:\")\n",
        "print(df.head(2))\n",
        "\n",
        "print(\"\\nUltimas 2 filas:\")\n",
        "print(df.tail(2))\n"
      ],
      "metadata": {
        "colab": {
          "base_uri": "https://localhost:8080/"
        },
        "id": "X70r2WSZV2rc",
        "outputId": "49c576ff-957c-4541-8501-344f83f7f1fd"
      },
      "execution_count": 5,
      "outputs": [
        {
          "output_type": "stream",
          "name": "stdout",
          "text": [
            "\\Tipos de datos:\n",
            "A            int64\n",
            "B    datetime64[s]\n",
            "C          float32\n",
            "D            int32\n",
            "E         category\n",
            "F           object\n",
            "dtype: object\n",
            "\n",
            "Primeras 2 filas:\n",
            "   A          B    C  D      E    F\n",
            "0  1 2023-01-01  1.0  5   test  foo\n",
            "1  2 2023-01-01  1.0  5  train  foo\n",
            "\n",
            "Ultimas 2 filas:\n",
            "   A          B    C  D      E    F\n",
            "2  3 2023-01-01  1.0  5   test  foo\n",
            "3  4 2023-01-01  1.0  5  train  foo\n"
          ]
        }
      ]
    }
  ]
}